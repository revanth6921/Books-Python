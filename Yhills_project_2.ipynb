{
  "nbformat": 4,
  "nbformat_minor": 0,
  "metadata": {
    "colab": {
      "provenance": [],
      "authorship_tag": "ABX9TyMSy5dVsQ6Rt2O44q2ByHh5",
      "include_colab_link": true
    },
    "kernelspec": {
      "name": "python3",
      "display_name": "Python 3"
    },
    "language_info": {
      "name": "python"
    }
  },
  "cells": [
    {
      "cell_type": "markdown",
      "metadata": {
        "id": "view-in-github",
        "colab_type": "text"
      },
      "source": [
        "<a href=\"https://colab.research.google.com/github/revanth6921/Books-Python/blob/main/Yhills_project_2.ipynb\" target=\"_parent\"><img src=\"https://colab.research.google.com/assets/colab-badge.svg\" alt=\"Open In Colab\"/></a>"
      ]
    },
    {
      "cell_type": "code",
      "execution_count": null,
      "metadata": {
        "id": "BdkdNJX-Ghz1"
      },
      "outputs": [],
      "source": [
        "import numpy as np\n",
        "import pandas as pd\n",
        "\n",
        "import seaborn as sns\n",
        "from matplotlib import pyplot as plt"
      ]
    },
    {
      "cell_type": "code",
      "source": [
        "df=pd.read_csv(\"/content/h1n1_vaccine_prediction.csv\")"
      ],
      "metadata": {
        "id": "xMIE1cCTI7yO"
      },
      "execution_count": null,
      "outputs": []
    },
    {
      "cell_type": "code",
      "source": [
        "df"
      ],
      "metadata": {
        "id": "J_Ck-NM4KXFB"
      },
      "execution_count": null,
      "outputs": []
    },
    {
      "cell_type": "code",
      "source": [
        "df.shape"
      ],
      "metadata": {
        "id": "OOm5X2ytJDq-"
      },
      "execution_count": null,
      "outputs": []
    },
    {
      "cell_type": "code",
      "source": [
        "df.dtypes"
      ],
      "metadata": {
        "id": "dXlJqejHJTOi"
      },
      "execution_count": null,
      "outputs": []
    },
    {
      "cell_type": "code",
      "source": [
        "df.isnull()"
      ],
      "metadata": {
        "id": "inFlHQRuJTLA"
      },
      "execution_count": null,
      "outputs": []
    },
    {
      "cell_type": "code",
      "source": [
        "df.sample(10)"
      ],
      "metadata": {
        "id": "pDf0ORzxJTIJ"
      },
      "execution_count": null,
      "outputs": []
    },
    {
      "cell_type": "code",
      "source": [
        "df.sample().sum()"
      ],
      "metadata": {
        "id": "m-gSvw2qJTFe"
      },
      "execution_count": null,
      "outputs": []
    },
    {
      "cell_type": "code",
      "source": [
        "df.describe()"
      ],
      "metadata": {
        "id": "KIpU4sMxJTCq"
      },
      "execution_count": null,
      "outputs": []
    },
    {
      "cell_type": "code",
      "source": [
        "df.describe(include=\"all\")"
      ],
      "metadata": {
        "id": "cRM4XUj-JS_2"
      },
      "execution_count": null,
      "outputs": []
    },
    {
      "cell_type": "code",
      "source": [
        "df.describe().sum()"
      ],
      "metadata": {
        "id": "lMcD2i7qJS8-"
      },
      "execution_count": null,
      "outputs": []
    },
    {
      "cell_type": "code",
      "source": [
        "sns.countplot(x=\"h1n1_worry\",data=df)"
      ],
      "metadata": {
        "id": "SojxgfhzK9Ms"
      },
      "execution_count": null,
      "outputs": []
    },
    {
      "cell_type": "code",
      "source": [
        "sns.countplot(x=\"h1n1_worry\",hue=\"h1n1_awareness\",data=df)"
      ],
      "metadata": {
        "id": "QdCWJLbjJS6D"
      },
      "execution_count": null,
      "outputs": []
    },
    {
      "cell_type": "code",
      "source": [
        "sns.countplot(x=\"income_level\",data=df)"
      ],
      "metadata": {
        "id": "0gT3nc_GJS3K"
      },
      "execution_count": null,
      "outputs": []
    },
    {
      "cell_type": "code",
      "source": [
        "sns.boxplot(x=\"h1n1_worry\",hue=\"h1n1_awareness\",data=df)"
      ],
      "metadata": {
        "id": "AXDo_P8vJS0Q"
      },
      "execution_count": null,
      "outputs": []
    },
    {
      "cell_type": "code",
      "source": [
        "X = df.drop(\"h1n1_vaccine\", axis = 1)\n",
        "y = pd.to_numeric(df[\"h1n1_vaccine\"])"
      ],
      "metadata": {
        "id": "CgCjglIPPm9f"
      },
      "execution_count": null,
      "outputs": []
    },
    {
      "cell_type": "code",
      "source": [
        "plt.figure(figsize = (25,7))\n",
        "plt.scatter(X[\"census_msa\"], y)\n",
        "plt.xlabel('census_msa')\n",
        "plt.ylabel('h1n1_vaccine')\n",
        "plt.show()"
      ],
      "metadata": {
        "id": "IlHLrO1QQZnE"
      },
      "execution_count": null,
      "outputs": []
    },
    {
      "cell_type": "code",
      "source": [
        "sns.jointplot(x=pd.to_numeric(X[\"avoid_touch_face\"]), y = y, kind=\"reg\",color = 'blue')"
      ],
      "metadata": {
        "id": "4RjsrEBMJSxT"
      },
      "execution_count": null,
      "outputs": []
    },
    {
      "cell_type": "code",
      "source": [
        "sns.violinplot(x=X[\"census_msa\"],y=y)"
      ],
      "metadata": {
        "id": "-xroK4fcJSul"
      },
      "execution_count": null,
      "outputs": []
    },
    {
      "cell_type": "code",
      "source": [
        "sns.swarmplot(x=X[\"census_msa\"],y=y)"
      ],
      "metadata": {
        "id": "4OCbJvSpJSre"
      },
      "execution_count": null,
      "outputs": []
    },
    {
      "cell_type": "code",
      "source": [
        "sns.scatterplot(x=pd.to_numeric(X[\"employment\"]), y = y, color = \"red\")"
      ],
      "metadata": {
        "id": "k3g3F1YdJSou"
      },
      "execution_count": null,
      "outputs": []
    },
    {
      "cell_type": "code",
      "source": [],
      "metadata": {
        "id": "wVOizNCyJSl3"
      },
      "execution_count": null,
      "outputs": []
    },
    {
      "cell_type": "code",
      "source": [],
      "metadata": {
        "id": "UH1bSydcJSZa"
      },
      "execution_count": null,
      "outputs": []
    }
  ]
}